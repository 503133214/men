{
 "cells": [
  {
   "cell_type": "code",
   "execution_count": 3,
   "id": "initial_id",
   "metadata": {
    "collapsed": true,
    "ExecuteTime": {
     "end_time": "2023-08-16T00:50:41.871208900Z",
     "start_time": "2023-08-16T00:50:41.844618600Z"
    }
   },
   "outputs": [
    {
     "ename": "AttributeError",
     "evalue": "'ellipsis' object has no attribute 'shape'",
     "output_type": "error",
     "traceback": [
      "\u001B[1;31m---------------------------------------------------------------------------\u001B[0m",
      "\u001B[1;31mAttributeError\u001B[0m                            Traceback (most recent call last)",
      "Cell \u001B[1;32mIn[3], line 21\u001B[0m\n\u001B[0;32m     18\u001B[0m         out \u001B[38;5;241m=\u001B[39m \u001B[38;5;28mself\u001B[39m\u001B[38;5;241m.\u001B[39mfc(h\u001B[38;5;241m.\u001B[39msqueeze(\u001B[38;5;241m0\u001B[39m))\n\u001B[0;32m     19\u001B[0m         \u001B[38;5;28;01mreturn\u001B[39;00m out\n\u001B[1;32m---> 21\u001B[0m input_dim \u001B[38;5;241m=\u001B[39m train_trajectories\u001B[38;5;241m.\u001B[39mshape[\u001B[38;5;241m-\u001B[39m\u001B[38;5;241m1\u001B[39m]\n\u001B[0;32m     22\u001B[0m hidden_dim \u001B[38;5;241m=\u001B[39m \u001B[38;5;241m128\u001B[39m\n\u001B[0;32m     23\u001B[0m output_dim \u001B[38;5;241m=\u001B[39m \u001B[38;5;241m1\u001B[39m  \u001B[38;5;66;03m# 输出为特征点的概率\u001B[39;00m\n",
      "\u001B[1;31mAttributeError\u001B[0m: 'ellipsis' object has no attribute 'shape'"
     ]
    }
   ],
   "source": [
    "import torch\n",
    "import torch.nn as nn\n",
    "import torch.optim as optim\n",
    "\n",
    "# 假设你有一个轨迹数据集和对应的特征点标注\n",
    "train_trajectories = ...  # shape: (num_samples, sequence_length, input_dim)\n",
    "feature_points = ...  # shape: (num_samples, sequence_length)\n",
    "\n",
    "# 定义模型\n",
    "class TrajectoryModel(nn.Module):\n",
    "    def __init__(self, input_dim, hidden_dim, output_dim):\n",
    "        super(TrajectoryModel, self).__init__()\n",
    "        self.rnn = nn.GRU(input_dim, hidden_dim, batch_first=True)\n",
    "        self.fc = nn.Linear(hidden_dim, output_dim)\n",
    "\n",
    "    def forward(self, x):\n",
    "        _, h = self.rnn(x)\n",
    "        out = self.fc(h.squeeze(0))\n",
    "        return out\n",
    "\n",
    "input_dim = train_trajectories.shape[-1]\n",
    "hidden_dim = 128\n",
    "output_dim = 1  # 输出为特征点的概率\n",
    "\n",
    "model = TrajectoryModel(input_dim, hidden_dim, output_dim)\n",
    "\n",
    "# 定义损失函数和优化器\n",
    "criterion = nn.BCEWithLogitsLoss()\n",
    "optimizer = optim.Adam(model.parameters(), lr=0.001)\n",
    "\n",
    "# 开始训练\n",
    "num_epochs = 10\n",
    "\n",
    "for epoch in range(num_epochs):\n",
    "    running_loss = 0.0\n",
    "\n",
    "    for trajectory, feature_point in zip(train_trajectories, feature_points):\n",
    "        optimizer.zero_grad()\n",
    "\n",
    "        # 将特征点作为Prompt插入到轨迹数据中\n",
    "        trajectory_with_prompt = torch.cat((trajectory, feature_point.unsqueeze(-1)), dim=-1)\n",
    "\n",
    "        # 前向传播\n",
    "        outputs = model(trajectory_with_prompt)\n",
    "\n",
    "        # 计算损失\n",
    "        loss = criterion(outputs, feature_point.float())\n",
    "\n",
    "        # 反向传播和优化\n",
    "        loss.backward()\n",
    "        optimizer.step()\n",
    "\n",
    "        running_loss += loss.item()\n",
    "\n",
    "    epoch_loss = running_loss / len(train_trajectories)\n",
    "    print(f\"Epoch {epoch+1}/{num_epochs}, Loss: {epoch_loss:.4f}\")\n",
    "\n",
    "# 训练完成后，可以使用训练好的模型进行预测和评估\n",
    "\n"
   ]
  },
  {
   "cell_type": "code",
   "execution_count": 4,
   "outputs": [],
   "source": [
    "import numpy as np\n",
    "\n",
    "def eucl_dist(x,y):\n",
    "    \"\"\"\n",
    "    Usage\n",
    "    -----\n",
    "    L2-norm between point x and y\n",
    "    Parameters\n",
    "    ----------\n",
    "    param x : numpy_array\n",
    "    param y : numpy_array\n",
    "    Returns\n",
    "    -------\n",
    "    dist : float\n",
    "           L2-norm between x and y\n",
    "    \"\"\"\n",
    "    dist = np.linalg.norm(x-y)\n",
    "    return dist\n",
    "\n",
    "def _c(ca,i,j,P,Q):\n",
    "    if ca[i,j] > -1:\n",
    "        return ca[i,j]\n",
    "    elif i == 0 and j == 0:\n",
    "        ca[i,j] = eucl_dist(P[0],Q[0])\n",
    "    elif i > 0 and j == 0:\n",
    "        ca[i,j] = max(_c(ca,i-1,0,P,Q),eucl_dist(P[i],Q[0]))\n",
    "    elif i == 0 and j > 0:\n",
    "        ca[i,j] = max(_c(ca,0,j-1,P,Q),eucl_dist(P[0],Q[j]))\n",
    "    elif i > 0 and j > 0:\n",
    "        ca[i,j] = max(min(_c(ca,i-1,j,P,Q),_c(ca,i-1,j-1,P,Q),_c(ca,i,j-1,P,Q)),eucl_dist(P[i],Q[j]))\n",
    "    else:\n",
    "        ca[i,j] = float(\"inf\")\n",
    "    return ca[i,j]\n",
    "\n",
    "\n",
    "def discret_frechet(P,Q):\n",
    "    \"\"\"\n",
    "    Usage\n",
    "    -----\n",
    "    Compute the discret frechet distance between trajectories P and Q\n",
    "    Parameters\n",
    "    ----------\n",
    "    param P : px2 numpy_array, Trajectory P\n",
    "    param Q : qx2 numpy_array, Trajectory Q\n",
    "    Returns\n",
    "    -------\n",
    "    frech : float, the discret frechet distance between trajectories P and Q\n",
    "    \"\"\"\n",
    "    ca = np.ones((len(P),len(Q)))\n",
    "    ca = np.multiply(ca,-1)\n",
    "    return _c(ca,len(P)-1,len(Q)-1,P,Q)"
   ],
   "metadata": {
    "collapsed": false,
    "ExecuteTime": {
     "end_time": "2023-08-16T01:17:22.753591100Z",
     "start_time": "2023-08-16T01:17:22.740413500Z"
    }
   },
   "id": "8204798f24e0b95b"
  },
  {
   "cell_type": "code",
   "execution_count": null,
   "outputs": [],
   "source": [],
   "metadata": {
    "collapsed": false
   },
   "id": "12013a207112cfe6"
  }
 ],
 "metadata": {
  "kernelspec": {
   "display_name": "Python 3",
   "language": "python",
   "name": "python3"
  },
  "language_info": {
   "codemirror_mode": {
    "name": "ipython",
    "version": 2
   },
   "file_extension": ".py",
   "mimetype": "text/x-python",
   "name": "python",
   "nbconvert_exporter": "python",
   "pygments_lexer": "ipython2",
   "version": "2.7.6"
  }
 },
 "nbformat": 4,
 "nbformat_minor": 5
}
