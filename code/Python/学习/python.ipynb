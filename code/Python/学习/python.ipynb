{
 "cells": [
  {
   "cell_type": "code",
   "execution_count": 8,
   "id": "initial_id",
   "metadata": {
    "collapsed": true,
    "ExecuteTime": {
     "end_time": "2024-06-01T07:32:42.486003900Z",
     "start_time": "2024-06-01T07:32:42.480920600Z"
    }
   },
   "outputs": [
    {
     "name": "stdout",
     "output_type": "stream",
     "text": [
      "str1new='wxcd'\n",
      "str2new='ab'\n"
     ]
    }
   ],
   "source": [
    "str1='abcd'\n",
    "str2='wxyz'\n",
    "str1new=str2[:2]+str1[2:4]\n",
    "str2new=str1[:2]+str2[2:0]\n",
    "print(f'{str1new=}', f'{str2new=}',sep='\\n')"
   ]
  },
  {
   "cell_type": "code",
   "execution_count": 12,
   "outputs": [
    {
     "data": {
      "text/plain": "1"
     },
     "execution_count": 12,
     "metadata": {},
     "output_type": "execute_result"
    }
   ],
   "source": [
    "9%4"
   ],
   "metadata": {
    "collapsed": false,
    "ExecuteTime": {
     "end_time": "2024-06-01T07:35:40.226942700Z",
     "start_time": "2024-06-01T07:35:40.220310400Z"
    }
   },
   "id": "c09bc48341ec3729"
  },
  {
   "cell_type": "code",
   "execution_count": 13,
   "outputs": [
    {
     "name": "stdout",
     "output_type": "stream",
     "text": [
      "<class 'int'>\n",
      "<class 'float'>\n",
      "<class 'complex'>\n",
      "<class 'str'>\n",
      "<class 'bool'>\n"
     ]
    }
   ],
   "source": [
    "\"\"\"\n",
    "使用type()检查变量的类型\n",
    "\n",
    "Version: 0.1\n",
    "Author: 骆昊\n",
    "\"\"\"\n",
    "a = 100\n",
    "b = 12.345\n",
    "c = 1 + 5j\n",
    "d = 'hello, world'\n",
    "e = True\n",
    "print(type(a))    # <class 'int'>\n",
    "print(type(b))    # <class 'float'>\n",
    "print(type(c))    # <class 'complex'>\n",
    "print(type(d))    # <class 'str'>\n",
    "print(type(e))    # <class 'bool'>"
   ],
   "metadata": {
    "collapsed": false,
    "ExecuteTime": {
     "end_time": "2024-06-01T07:37:50.541936500Z",
     "start_time": "2024-06-01T07:37:50.534150700Z"
    }
   },
   "id": "e71dc7e908afcc72"
  },
  {
   "cell_type": "code",
   "execution_count": 15,
   "outputs": [
    {
     "name": "stdout",
     "output_type": "stream",
     "text": [
      "5 + 6 = 11\n",
      "5 - 6 = -1\n",
      "5 * 6 = 30\n",
      "5 / 6 = 0.833333\n",
      "5 // 6 = 0\n",
      "5 % 6 = 5\n",
      "5 ** 6 = 15625\n"
     ]
    }
   ],
   "source": [
    "a = int(input('a = '))\n",
    "b = int(input('b = '))\n",
    "print('%d + %d = %d' % (a, b, a + b))\n",
    "print('%d - %d = %d' % (a, b, a - b))\n",
    "print('%d * %d = %d' % (a, b, a * b))\n",
    "print('%d / %d = %f' % (a, b, a / b))\n",
    "print('%d // %d = %d' % (a, b, a // b))\n",
    "print('%d %% %d = %d' % (a, b, a % b))\n",
    "print('%d ** %d = %d' % (a, b, a ** b))"
   ],
   "metadata": {
    "collapsed": false,
    "ExecuteTime": {
     "end_time": "2024-06-01T07:44:14.041961100Z",
     "start_time": "2024-06-01T07:44:11.230873100Z"
    }
   },
   "id": "c811d0d218a118f4"
  },
  {
   "cell_type": "code",
   "execution_count": 16,
   "outputs": [
    {
     "name": "stdout",
     "output_type": "stream",
     "text": [
      "flag0 = True\n",
      "flag1 = True\n",
      "flag2 = False\n",
      "flag3 = False\n",
      "flag4 = True\n",
      "flag5 = False\n"
     ]
    }
   ],
   "source": [
    "\"\"\"\n",
    "比较运算符和逻辑运算符的使用\n",
    "\n",
    "Version: 0.1\n",
    "Author: 骆昊\n",
    "\"\"\"\n",
    "flag0 = 1 == 1\n",
    "flag1 = 3 > 2\n",
    "flag2 = 2 < 1\n",
    "flag3 = flag1 and flag2\n",
    "flag4 = flag1 or flag2\n",
    "flag5 = not (1 != 2)\n",
    "print('flag0 =', flag0)    # flag0 = True\n",
    "print('flag1 =', flag1)    # flag1 = True\n",
    "print('flag2 =', flag2)    # flag2 = False\n",
    "print('flag3 =', flag3)    # flag3 = False\n",
    "print('flag4 =', flag4)    # flag4 = True\n",
    "print('flag5 =', flag5)    # flag5 = False"
   ],
   "metadata": {
    "collapsed": false,
    "ExecuteTime": {
     "end_time": "2024-06-01T08:17:37.658858Z",
     "start_time": "2024-06-01T08:17:37.632172900Z"
    }
   },
   "id": "49a56a35c94ce6f2"
  },
  {
   "cell_type": "code",
   "execution_count": 17,
   "outputs": [
    {
     "name": "stdout",
     "output_type": "stream",
     "text": [
      "88.0华氏度 = 31.1摄氏度\n"
     ]
    }
   ],
   "source": [
    "f = float(input('请输入华氏度'))\n",
    "c = (f-32)/1.8\n",
    "print('%.1f华氏度 = %.1f摄氏度' %(f,c))"
   ],
   "metadata": {
    "collapsed": false,
    "ExecuteTime": {
     "end_time": "2024-06-01T08:23:06.135527800Z",
     "start_time": "2024-06-01T08:23:03.729242200Z"
    }
   },
   "id": "5f47ac435a8ba007"
  },
  {
   "metadata": {
    "ExecuteTime": {
     "end_time": "2024-06-03T16:20:58.483565Z",
     "start_time": "2024-06-03T16:20:55.040894Z"
    }
   },
   "cell_type": "code",
   "source": [
    "year = int(input(\"please input years\"))\n",
    "days = year * 365\n",
    "hours = days * 24\n",
    "minutes = hours * 60\n",
    "seconds = minutes * 60\n",
    "to_list = [days,hours,minutes,seconds]\n",
    "for i in range(0,4):\n",
    "    print(f\"{year} years equivalent to {to_list[i]} {['days','hours','minutes','seconds'][i]}\")"
   ],
   "id": "ea0b2f8ffa6f0df2",
   "outputs": [
    {
     "name": "stdout",
     "output_type": "stream",
     "text": [
      "2 years equivalent to 730 days\n",
      "2 years equivalent to 17520 hours\n",
      "2 years equivalent to 1051200 minutes\n",
      "2 years equivalent to 63072000 seconds\n"
     ]
    }
   ],
   "execution_count": 4
  },
  {
   "metadata": {
    "ExecuteTime": {
     "end_time": "2024-06-03T16:29:13.965463Z",
     "start_time": "2024-06-03T16:29:12.785726Z"
    }
   },
   "cell_type": "code",
   "source": [
    "seconds = int(input(\"please input seconds\"))\n",
    "second = seconds % 60\n",
    "minutes = seconds // 60 % 60\n",
    "hours = (seconds // 3600) % 24\n",
    "days = seconds // (3600 * 24)\n",
    "print(\"%d seconds are equal to %d days, %d hours, %d minutes and %d seconds\" % (seconds, days, hours, minutes, second))"
   ],
   "id": "57e597aead68a025",
   "outputs": [
    {
     "name": "stdout",
     "output_type": "stream",
     "text": [
      "1000000 seconds are equal to 11 days, 13 hours, 46 minutes and 40 seconds\n"
     ]
    }
   ],
   "execution_count": 9
  },
  {
   "metadata": {
    "ExecuteTime": {
     "end_time": "2024-06-03T16:47:27.187279Z",
     "start_time": "2024-06-03T16:47:27.184291Z"
    }
   },
   "cell_type": "code",
   "source": [
    "import random\n",
    "mylist = [1,3,5,7,9]"
   ],
   "id": "6bd301de410854d0",
   "outputs": [
    {
     "name": "stdout",
     "output_type": "stream",
     "text": [
      "[4, 3, 2, 1]\n"
     ]
    }
   ],
   "execution_count": 26
  },
  {
   "metadata": {
    "ExecuteTime": {
     "end_time": "2024-06-03T16:58:43.809811Z",
     "start_time": "2024-06-03T16:58:43.806109Z"
    }
   },
   "cell_type": "code",
   "source": [
    "s = \"Men\"\n",
    "sand = 0 if len(s) % 2==0 else 1\n",
    "print(sand)"
   ],
   "id": "49c0784f9a83276b",
   "outputs": [
    {
     "name": "stdout",
     "output_type": "stream",
     "text": [
      "1\n"
     ]
    }
   ],
   "execution_count": 32
  },
  {
   "metadata": {
    "ExecuteTime": {
     "end_time": "2024-06-03T17:00:12.306498Z",
     "start_time": "2024-06-03T17:00:12.303064Z"
    }
   },
   "cell_type": "code",
   "source": [
    "N = 2209534\n",
    "p = N % 10\n",
    "q = N // 10 % 10\n",
    "Nand = 0 if (p + q) % 2 == 0 else 1\n",
    "print(Nand)"
   ],
   "id": "fbc3d538c42fbf64",
   "outputs": [
    {
     "name": "stdout",
     "output_type": "stream",
     "text": [
      "1\n"
     ]
    }
   ],
   "execution_count": 35
  },
  {
   "metadata": {
    "ExecuteTime": {
     "end_time": "2024-06-04T00:19:33.813467Z",
     "start_time": "2024-06-04T00:19:33.809760Z"
    }
   },
   "cell_type": "code",
   "source": [
    "list1 = [1,2,3,4,5]\n",
    "list2 = list1.copy()\n",
    "list3 = list1[:]\n",
    "list4 = list1\n",
    "print(list1,list2,list3,list4,sep='\\n')\n",
    "print(id(list1),id(list2),id(list3),id(list4),sep='\\n')"
   ],
   "id": "e14d294f9d2a7a6d",
   "outputs": [
    {
     "name": "stdout",
     "output_type": "stream",
     "text": [
      "[1, 2, 3, 4, 5]\n",
      "[1, 2, 3, 4, 5]\n",
      "[1, 2, 3, 4, 5]\n",
      "[1, 2, 3, 4, 5]\n",
      "2184068785984\n",
      "2184078470208\n",
      "2184078469376\n",
      "2184068785984\n"
     ]
    }
   ],
   "execution_count": 39
  },
  {
   "metadata": {
    "ExecuteTime": {
     "end_time": "2024-06-04T00:21:01.608845Z",
     "start_time": "2024-06-04T00:21:01.605143Z"
    }
   },
   "cell_type": "code",
   "source": [
    "list1 = [17, 3, 12, 9, 10] \n",
    "list1.sort() \n",
    "print(\"Spread:\", list1[-1] - list1[0]) "
   ],
   "id": "9a5afab2795274b",
   "outputs": [
    {
     "name": "stdout",
     "output_type": "stream",
     "text": [
      "Spread: 14\n"
     ]
    }
   ],
   "execution_count": 42
  },
  {
   "metadata": {
    "ExecuteTime": {
     "end_time": "2024-06-04T00:22:16.872659Z",
     "start_time": "2024-06-04T00:22:16.859681Z"
    }
   },
   "cell_type": "code",
   "source": "print('a+b' < 'b+a') \n",
   "id": "2e5be17c6f1688ae",
   "outputs": [
    {
     "name": "stdout",
     "output_type": "stream",
     "text": [
      "True\n"
     ]
    },
    {
     "ename": "TypeError",
     "evalue": "vars() argument must have __dict__ attribute",
     "output_type": "error",
     "traceback": [
      "\u001B[1;31m---------------------------------------------------------------------------\u001B[0m",
      "\u001B[1;31mTypeError\u001B[0m                                 Traceback (most recent call last)",
      "Cell \u001B[1;32mIn[45], line 2\u001B[0m\n\u001B[0;32m      1\u001B[0m \u001B[38;5;28mprint\u001B[39m(\u001B[38;5;124m'\u001B[39m\u001B[38;5;124ma+b\u001B[39m\u001B[38;5;124m'\u001B[39m \u001B[38;5;241m<\u001B[39m \u001B[38;5;124m'\u001B[39m\u001B[38;5;124mb+a\u001B[39m\u001B[38;5;124m'\u001B[39m) \n\u001B[1;32m----> 2\u001B[0m \u001B[38;5;28mprint\u001B[39m(\u001B[38;5;28mvars\u001B[39m(\u001B[38;5;124m'\u001B[39m\u001B[38;5;124ma+b\u001B[39m\u001B[38;5;124m'\u001B[39m))\n",
      "\u001B[1;31mTypeError\u001B[0m: vars() argument must have __dict__ attribute"
     ]
    }
   ],
   "execution_count": 45
  },
  {
   "metadata": {
    "ExecuteTime": {
     "end_time": "2024-06-04T00:25:06.343927Z",
     "start_time": "2024-06-04T00:25:06.340449Z"
    }
   },
   "cell_type": "code",
   "source": [
    "for i in range(3, 7): \n",
    "    print(2 * i)"
   ],
   "id": "918e2dface110aa4",
   "outputs": [
    {
     "name": "stdout",
     "output_type": "stream",
     "text": [
      "6\n",
      "8\n",
      "10\n",
      "12\n"
     ]
    }
   ],
   "execution_count": 47
  },
  {
   "metadata": {
    "ExecuteTime": {
     "end_time": "2024-06-04T00:25:42.389270Z",
     "start_time": "2024-06-04T00:25:42.386325Z"
    }
   },
   "cell_type": "code",
   "source": [
    "def main(): \n",
    "    num = 5 \n",
    "    triple(num) \n",
    "    print(num) \n",
    "def triple(num): \n",
    "    num = 3 * num \n",
    "main() "
   ],
   "id": "dbb4ad8d20ef4226",
   "outputs": [
    {
     "name": "stdout",
     "output_type": "stream",
     "text": [
      "5\n"
     ]
    }
   ],
   "execution_count": 49
  },
  {
   "metadata": {
    "ExecuteTime": {
     "end_time": "2024-06-04T00:25:49.987991Z",
     "start_time": "2024-06-04T00:25:49.984434Z"
    }
   },
   "cell_type": "code",
   "source": [
    "list1 = 'h'+ 'o'+ 'n'+ 'P'+ 'y'+ 't' \n",
    "list2 = list1[3:] + list1[:3] \n",
    "print(list2)"
   ],
   "id": "c131b1c55766a60e",
   "outputs": [
    {
     "name": "stdout",
     "output_type": "stream",
     "text": [
      "Python\n"
     ]
    }
   ],
   "execution_count": 50
  },
  {
   "metadata": {
    "ExecuteTime": {
     "end_time": "2024-06-04T00:26:26.699878Z",
     "start_time": "2024-06-04T00:26:26.695896Z"
    }
   },
   "cell_type": "code",
   "source": [
    "def main(): \n",
    "    print(f (5)) \n",
    "def f (n): \n",
    "    if n == 1: \n",
    "        return 1 \n",
    "    else: \n",
    "        return n * f (n - 1)\n",
    "main()"
   ],
   "id": "bbb16819265dd96e",
   "outputs": [
    {
     "name": "stdout",
     "output_type": "stream",
     "text": [
      "120\n"
     ]
    }
   ],
   "execution_count": 51
  },
  {
   "metadata": {
    "ExecuteTime": {
     "end_time": "2024-06-04T00:27:04.889056Z",
     "start_time": "2024-06-04T00:27:04.886038Z"
    }
   },
   "cell_type": "code",
   "source": [
    "var = \"mur\" \n",
    "var += 2 * var \n",
    "print(var)"
   ],
   "id": "62df79152cb9a4e",
   "outputs": [
    {
     "name": "stdout",
     "output_type": "stream",
     "text": [
      "murmurmur\n"
     ]
    }
   ],
   "execution_count": 52
  },
  {
   "metadata": {},
   "cell_type": "markdown",
   "source": [
    "The following steps calculate the price of an item after a 30% reduction. \\\n",
    "(a) Create the variable price and assign it the value 19.95. \\\n",
    "(b) Create the variable discountPercent and assign it the value 30. \\\n",
    "(c) Create the variable markdown and assign it the value of (discountPercent divided \n",
    "by 100) times the value of price. \\\n",
    "(d) Decrease the value of price by markdown. \\\n",
    "(e) Display the value of price. "
   ],
   "id": "327d5e57e941c90"
  },
  {
   "metadata": {
    "ExecuteTime": {
     "end_time": "2024-06-04T00:27:51.822676Z",
     "start_time": "2024-06-04T00:27:51.819158Z"
    }
   },
   "cell_type": "code",
   "source": [
    "price = 19.95\n",
    "discountPercent = 30\n",
    "markdown = discountPercent * price / 100\n",
    "price -= markdown\n",
    "print(price)"
   ],
   "id": "8cfa87ed4b71e172",
   "outputs": [
    {
     "name": "stdout",
     "output_type": "stream",
     "text": [
      "13.965\n"
     ]
    }
   ],
   "execution_count": 53
  },
  {
   "metadata": {},
   "cell_type": "markdown",
   "source": [
    "Write a program to answer the question:  \n",
    "When you borrow money to buy a house or a car, the loan is paid off with a sequence of \n",
    "equal monthly payments with a stated annual interest rate compounded monthly. The amount \n",
    "borrowed is called the principal. If the annual interest rate is 6% (or .06), then the monthly \n",
    "interest rate is .06/12 = .005. At any time, the balance of the loan is the amount still owed. \n",
    "The balance at the end of each month is calculated as the balance at the end of the previous \n",
    "month, plus the interest due on that balance, and minus the monthly payment. For instance, \n",
    "with an annual interest rate of 6%, \n",
    "[new balance] = [previous balance] + .005 # [previous balance] - [monthly payment] \n",
    "= 1.005 # [previous balance] - [monthly payment]. \n",
    "Suppose you borrow $15,000 to buy a new car at 6% interest compounded monthly and your \n",
    "monthly payment is $290.00. After how many months will the car be half paid off? That is, \n",
    "after how many months will the balance be less than half the amount borrowed? See Fig. 1 \n",
    "for a sample run. \n",
    "fig. 1:\n",
    "Loan will be half paid off after 33 months."
   ],
   "id": "c26b8840c4c72c96"
  },
  {
   "metadata": {
    "ExecuteTime": {
     "end_time": "2024-06-04T00:31:20.715657Z",
     "start_time": "2024-06-04T00:31:20.710301Z"
    }
   },
   "cell_type": "code",
   "source": [
    "def months_to_half_paid(principal, annual_interest_rate, monthly_payment):\n",
    "    monthly_interest_rate = annual_interest_rate / 12\n",
    "    balance = principal\n",
    "    months = 0\n",
    "    half_principal = principal / 2\n",
    "\n",
    "    while balance > half_principal:\n",
    "        balance = balance * (1 + monthly_interest_rate) - monthly_payment\n",
    "        months += 1\n",
    "\n",
    "    return months\n",
    "\n",
    "# Parameters\n",
    "principal = 15000\n",
    "annual_interest_rate = 0.06\n",
    "monthly_payment = 290.00\n",
    "\n",
    "# Calculate months to half paid\n",
    "months = months_to_half_paid(principal, annual_interest_rate, monthly_payment)\n",
    "\n",
    "print(f\"Loan will be half paid off after {months} months.\")\n"
   ],
   "id": "5f262be334b69a99",
   "outputs": [
    {
     "name": "stdout",
     "output_type": "stream",
     "text": [
      "Loan will be half paid off after 33 months.\n"
     ]
    }
   ],
   "execution_count": 54
  },
  {
   "metadata": {
    "ExecuteTime": {
     "end_time": "2024-06-04T00:36:02.604975Z",
     "start_time": "2024-06-04T00:36:02.600445Z"
    }
   },
   "cell_type": "code",
   "source": [
    "def year_population_surpasses(china_population, china_growth_rate, india_population, india_growth_rate, start_year):\n",
    "    year = start_year\n",
    "    while india_population <= china_population:\n",
    "        china_population *= (1 + china_growth_rate)\n",
    "        india_population *= (1 + india_growth_rate)\n",
    "        year += 1\n",
    "    return year\n",
    "\n",
    "# Parameters\n",
    "china_population_2014 = 1.37  # in billions\n",
    "china_growth_rate = 0.0051    # 0.51% per year\n",
    "india_population_2014 = 1.26  # in billions\n",
    "india_growth_rate = 0.0135    # 1.35% per year\n",
    "start_year = 2014\n",
    "\n",
    "# Calculate the year when India's population surpasses China's population\n",
    "year = year_population_surpasses(china_population_2014, china_growth_rate, india_population_2014, india_growth_rate, start_year)\n",
    "\n",
    "print(f\"India's population will exceed China's population in the year {year}.\")\n"
   ],
   "id": "4679a2630de655ff",
   "outputs": [
    {
     "name": "stdout",
     "output_type": "stream",
     "text": [
      "India's population will exceed China's population in the year 2025.\n"
     ]
    }
   ],
   "execution_count": 55
  },
  {
   "metadata": {},
   "cell_type": "code",
   "outputs": [],
   "execution_count": null,
   "source": "",
   "id": "39bc4849ea15a6be"
  }
 ],
 "metadata": {
  "kernelspec": {
   "display_name": "Python 3",
   "language": "python",
   "name": "python3"
  },
  "language_info": {
   "codemirror_mode": {
    "name": "ipython",
    "version": 2
   },
   "file_extension": ".py",
   "mimetype": "text/x-python",
   "name": "python",
   "nbconvert_exporter": "python",
   "pygments_lexer": "ipython2",
   "version": "2.7.6"
  }
 },
 "nbformat": 4,
 "nbformat_minor": 5
}
